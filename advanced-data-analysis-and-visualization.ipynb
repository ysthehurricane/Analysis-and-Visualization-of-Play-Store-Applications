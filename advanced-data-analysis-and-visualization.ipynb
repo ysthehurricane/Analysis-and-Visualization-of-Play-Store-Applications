{
 "cells": [
  {
   "cell_type": "code",
   "execution_count": 1,
   "metadata": {
    "_uuid": "121e725e1a8f8047f05ab815f47ca2817f3e2f5c"
   },
   "outputs": [
    {
     "data": {
      "text/html": [
       "        <script type=\"text/javascript\">\n",
       "        window.PlotlyConfig = {MathJaxConfig: 'local'};\n",
       "        if (window.MathJax) {MathJax.Hub.Config({SVG: {font: \"STIX-Web\"}});}\n",
       "        if (typeof require !== 'undefined') {\n",
       "        require.undef(\"plotly\");\n",
       "        requirejs.config({\n",
       "            paths: {\n",
       "                'plotly': ['https://cdn.plot.ly/plotly-2.2.0.min']\n",
       "            }\n",
       "        });\n",
       "        require(['plotly'], function(Plotly) {\n",
       "            window._Plotly = Plotly;\n",
       "        });\n",
       "        }\n",
       "        </script>\n",
       "        "
      ]
     },
     "metadata": {},
     "output_type": "display_data"
    }
   ],
   "source": [
    "import pandas as pd\n",
    "import numpy as np\n",
    "import matplotlib.pyplot as plt\n",
    "import seaborn as sb\n",
    "import plotly as py\n",
    "import plotly.graph_objs as go\n",
    "\n",
    "py.offline.init_notebook_mode(connected=True)\n",
    "\n",
    "%matplotlib inline"
   ]
  },
  {
   "cell_type": "code",
   "execution_count": null,
   "metadata": {
    "_uuid": "4c70903bf95f9f2a9b3d43d1d838f890a4fdd6b0"
   },
   "outputs": [],
   "source": [
    "suicide = pd.read_csv(\"../input/master.csv\")\n",
    "suicide.head()"
   ]
  },
  {
   "cell_type": "code",
   "execution_count": null,
   "metadata": {
    "_uuid": "cd0b99424d53b3add45c83796144cc1c44e30423"
   },
   "outputs": [],
   "source": [
    "suicide.columns"
   ]
  },
  {
   "cell_type": "code",
   "execution_count": null,
   "metadata": {
    "_uuid": "9e0d49180483b460863fecd792dbefa0fcaf5254"
   },
   "outputs": [],
   "source": [
    "len(suicide)"
   ]
  },
  {
   "cell_type": "code",
   "execution_count": null,
   "metadata": {
    "_uuid": "051ecb1161da3b2bedb3861a468f5c07584a8246"
   },
   "outputs": [],
   "source": [
    "suicide.age.unique()"
   ]
  },
  {
   "cell_type": "markdown",
   "metadata": {
    "_uuid": "48451cfe1be37ce72d01d3255ebf39db8bb42648"
   },
   "source": [
    "## Number of suicides committed in each country"
   ]
  },
  {
   "cell_type": "code",
   "execution_count": null,
   "metadata": {
    "_uuid": "2124ff6f37ae4e6eecf12a2a75041476ff224891"
   },
   "outputs": [],
   "source": [
    "type(suicide['suicides_no'][0])"
   ]
  },
  {
   "cell_type": "code",
   "execution_count": null,
   "metadata": {
    "_uuid": "5a4c7ba18ca5d3893426d6c758e63bbef81835d8"
   },
   "outputs": [],
   "source": [
    "suicide_in_countries = suicide.groupby('country')"
   ]
  },
  {
   "cell_type": "code",
   "execution_count": null,
   "metadata": {
    "_uuid": "9f184c22956b0cb4da449b3832506b4a88e7acd1",
    "scrolled": false
   },
   "outputs": [],
   "source": [
    "suicide_in_countries"
   ]
  },
  {
   "cell_type": "code",
   "execution_count": null,
   "metadata": {
    "_uuid": "30b0d5818a5493f5824f1990daf0481c4ba8347d"
   },
   "outputs": [],
   "source": [
    "country_suicide_series = suicide_in_countries['suicides_no'].sum()"
   ]
  },
  {
   "cell_type": "code",
   "execution_count": null,
   "metadata": {
    "_uuid": "4e3e7e84e7921a3c936097fb4d533e94c56d4af9"
   },
   "outputs": [],
   "source": [
    "country_suicide_series.head()"
   ]
  },
  {
   "cell_type": "code",
   "execution_count": null,
   "metadata": {
    "_uuid": "0d12368d99c6939d2dbd162bb6a72844db19b1eb"
   },
   "outputs": [],
   "source": [
    "# plt.figure(figsize=(10,30))\n",
    "# sb.set_style('dark')\n",
    "# sb.barplot(country_suicide_series.values,country_suicide_series.index)\n",
    "# plt.show()"
   ]
  },
  {
   "cell_type": "code",
   "execution_count": null,
   "metadata": {
    "_uuid": "8c0a7e56e9082495758cd70372977e841e951aa5"
   },
   "outputs": [],
   "source": [
    "trace1 = go.Bar(\n",
    "    y=country_suicide_series.values,\n",
    "    x=country_suicide_series.index,\n",
    ")\n",
    "\n",
    "data = [trace1]\n",
    "layout = go.Layout(\n",
    "    title=\"Number of suicide committed in each country\",\n",
    "    xaxis={\n",
    "        'title':\"Countries\",\n",
    "    },\n",
    "    yaxis={\n",
    "        'title':\"Number of suicide\",\n",
    "    }\n",
    ")\n",
    "figure=go.Figure(data=data,layout=layout)\n",
    "py.offline.iplot(figure)"
   ]
  },
  {
   "cell_type": "code",
   "execution_count": null,
   "metadata": {
    "_uuid": "b3cf047a61c5346c851dba5be98abbce1e3d9db3"
   },
   "outputs": [],
   "source": [
    "suicide.year.unique()"
   ]
  },
  {
   "cell_type": "markdown",
   "metadata": {
    "_uuid": "1218b330feafc5385e72409b5e806a3a13bb37de"
   },
   "source": [
    "## Number of suicides genderwise"
   ]
  },
  {
   "cell_type": "code",
   "execution_count": null,
   "metadata": {
    "_uuid": "a5123b656b6ae43f0e986bc9096bd016b32d2cee"
   },
   "outputs": [],
   "source": [
    "(suicide['suicides_no'][suicide['sex']=='male']).sum()"
   ]
  },
  {
   "cell_type": "code",
   "execution_count": null,
   "metadata": {
    "_uuid": "42881148591374c4cd3173d0dbb45a8ce8f2dcf6"
   },
   "outputs": [],
   "source": [
    "genderwise_suicide = suicide.pivot_table(index='sex' , aggfunc='sum')"
   ]
  },
  {
   "cell_type": "code",
   "execution_count": null,
   "metadata": {
    "_uuid": "023550e184d221ea1b8e3b49368c49aebeb54744"
   },
   "outputs": [],
   "source": [
    "genderwise_suicide['suicides_no']"
   ]
  },
  {
   "cell_type": "code",
   "execution_count": null,
   "metadata": {
    "_uuid": "f576c5e015f3d38be178ed373e3e0f300ba1bb41"
   },
   "outputs": [],
   "source": [
    "suicide['suicides_no'].sum()"
   ]
  },
  {
   "cell_type": "code",
   "execution_count": null,
   "metadata": {
    "_uuid": "f1cbb7bda646f49734dfcdc8a09e949cedff711a"
   },
   "outputs": [],
   "source": [
    "sb.barplot(genderwise_suicide.index , genderwise_suicide.suicides_no)\n",
    "sb.set_style('white')"
   ]
  },
  {
   "cell_type": "markdown",
   "metadata": {
    "_uuid": "d3fda33f43caac5dcfd41cca041072ebac815ba7"
   },
   "source": [
    "## Number of suicides genderwise in each country"
   ]
  },
  {
   "cell_type": "code",
   "execution_count": null,
   "metadata": {
    "_uuid": "1e95c5bb4c8d0bb0f5fafe4b9acda41650f71b2b"
   },
   "outputs": [],
   "source": [
    "country_wise_gender_suicide_df = pd.DataFrame({\n",
    "    'country' : suicide.country,\n",
    "    'sex' : suicide.sex,\n",
    "    'suicides_no' : suicide.suicides_no\n",
    "})"
   ]
  },
  {
   "cell_type": "code",
   "execution_count": null,
   "metadata": {
    "_uuid": "710a30f66f2b8b9c47eefa3fdfbb262b49ec1ebf"
   },
   "outputs": [],
   "source": [
    "country_wise_gender_suicide = country_wise_gender_suicide_df.pivot_table(index='country' , columns='sex' , aggfunc='sum')"
   ]
  },
  {
   "cell_type": "code",
   "execution_count": null,
   "metadata": {
    "_uuid": "cbc48b179dea70293a48c784b2803fe3fbda8b45"
   },
   "outputs": [],
   "source": [
    "country_wise_gender_suicide.iloc[0]"
   ]
  },
  {
   "cell_type": "code",
   "execution_count": null,
   "metadata": {
    "_uuid": "8135c1c2e4704c549e84e516122f7a07d51361dc"
   },
   "outputs": [],
   "source": [
    "# country_wise_gender_suicide.plot.bar(stacked = True , figsize=(30,10) , cmap='coolwarm')"
   ]
  },
  {
   "cell_type": "code",
   "execution_count": null,
   "metadata": {
    "_uuid": "166cead122af9718f527a166f1baf4d62f594b76"
   },
   "outputs": [],
   "source": [
    "country_wise_gender_suicide.columns = country_wise_gender_suicide.columns.droplevel()"
   ]
  },
  {
   "cell_type": "code",
   "execution_count": null,
   "metadata": {
    "_uuid": "c1b0dc688688b2c01238ccc2286fb7ae631f12f0"
   },
   "outputs": [],
   "source": [
    "country_wise_gender_suicide.female.head()"
   ]
  },
  {
   "cell_type": "code",
   "execution_count": null,
   "metadata": {
    "_uuid": "ef71ae545ebb9237b9035686c90d24a32b9d27fa"
   },
   "outputs": [],
   "source": [
    "trace1 = go.Bar(\n",
    "    x=country_wise_gender_suicide.index,\n",
    "    y=country_wise_gender_suicide.female,\n",
    "    name='Number of female suicides'\n",
    ")\n",
    "trace2 = go.Bar(\n",
    "    x=country_wise_gender_suicide.index,\n",
    "    y=country_wise_gender_suicide.male,\n",
    "    name='Number of female suicides'\n",
    ")\n",
    "\n",
    "data = [trace1, trace2]\n",
    "layout = go.Layout(\n",
    "    barmode='stack',\n",
    "    title=\"Number of suicides genderwise in each country\",\n",
    "    xaxis={\n",
    "        'title':\"Countries\",\n",
    "    },\n",
    "    yaxis={\n",
    "        'title':\"Number of suicide\",\n",
    "    }\n",
    ")\n",
    "\n",
    "fig = go.Figure(data=data, layout=layout)\n",
    "py.offline.iplot(fig)"
   ]
  },
  {
   "cell_type": "markdown",
   "metadata": {
    "_uuid": "1e633276d90c0bdbf1921aa722cbb359548017e8"
   },
   "source": [
    " ## Suicides committed by various age groups"
   ]
  },
  {
   "cell_type": "code",
   "execution_count": null,
   "metadata": {
    "_uuid": "5c99901e4b9590601afaf92f900837c21834f4c2"
   },
   "outputs": [],
   "source": [
    "suicide.age.unique()"
   ]
  },
  {
   "cell_type": "code",
   "execution_count": null,
   "metadata": {
    "_uuid": "35c7e2f9ecdbca546ec59861155dc1c0f3a884d5"
   },
   "outputs": [],
   "source": [
    "agewise_suicides = suicide.pivot_table(index='age' , aggfunc='sum')"
   ]
  },
  {
   "cell_type": "code",
   "execution_count": null,
   "metadata": {
    "_uuid": "4243da2be6211c193a6f2ea23d9ae4243376fbd1"
   },
   "outputs": [],
   "source": [
    "agewise_suicides.columns"
   ]
  },
  {
   "cell_type": "code",
   "execution_count": null,
   "metadata": {
    "_uuid": "3fffee4822339eed20a78f586679845d47c5b794"
   },
   "outputs": [],
   "source": [
    "agewise_suicides_df = pd.DataFrame({\n",
    "    'suicides_no' : agewise_suicides['suicides_no']\n",
    "},index = agewise_suicides.index)"
   ]
  },
  {
   "cell_type": "code",
   "execution_count": null,
   "metadata": {
    "_uuid": "3003cf5c9d4393954851c098dd6255e183f66549"
   },
   "outputs": [],
   "source": [
    "agewise_suicides_df"
   ]
  },
  {
   "cell_type": "code",
   "execution_count": null,
   "metadata": {
    "_uuid": "48e97d1bf0fa22fb363bdec2ac7026dee1531efd"
   },
   "outputs": [],
   "source": [
    "agewise_suicides_df.sort_values(by='suicides_no' , ascending=False).plot.bar()"
   ]
  },
  {
   "cell_type": "markdown",
   "metadata": {
    "_uuid": "762861c479a8708f951a2d89fbea98b91be17e20"
   },
   "source": [
    "## Suicides committed by various age groups in male and female"
   ]
  },
  {
   "cell_type": "code",
   "execution_count": null,
   "metadata": {
    "_uuid": "f7577eb7ab79fb57993c7b7619b1d9335c7714de"
   },
   "outputs": [],
   "source": [
    "gender_agewise_suicide_df = pd.DataFrame({\n",
    "    'sex' :suicide.sex,\n",
    "    'age' : suicide.age,\n",
    "    'suicide_no' : suicide.suicides_no\n",
    "})"
   ]
  },
  {
   "cell_type": "code",
   "execution_count": null,
   "metadata": {
    "_uuid": "ae9f6c8c22bac72e9c796e90c0d21e63a4b0980d"
   },
   "outputs": [],
   "source": [
    "gender_agewise_suicide = gender_agewise_suicide_df.pivot_table(index='age' , columns='sex' , aggfunc='sum')"
   ]
  },
  {
   "cell_type": "code",
   "execution_count": null,
   "metadata": {
    "_uuid": "a774d907d3e31ec61cdd2d355f95bb58000cc6cf"
   },
   "outputs": [],
   "source": [
    "gender_agewise_suicide.iloc[0]"
   ]
  },
  {
   "cell_type": "code",
   "execution_count": null,
   "metadata": {
    "_uuid": "5f18b772ddf64d4d90f51400a80d62afbf672ff5"
   },
   "outputs": [],
   "source": [
    "#gender_agewise_suicide.plot.pie(subplots=True , figsize=(30,10))"
   ]
  },
  {
   "cell_type": "code",
   "execution_count": null,
   "metadata": {
    "_uuid": "bcd74e46b8817095ec7bb5578a4a5bca24400555"
   },
   "outputs": [],
   "source": [
    "gender_agewise_suicide.columns = gender_agewise_suicide.columns.droplevel()"
   ]
  },
  {
   "cell_type": "code",
   "execution_count": null,
   "metadata": {
    "_uuid": "0730780d26d45efe593aacff1c270c71cc9b7732"
   },
   "outputs": [],
   "source": [
    "gender_agewise_suicide.female"
   ]
  },
  {
   "cell_type": "code",
   "execution_count": null,
   "metadata": {
    "_uuid": "2e31cef96b4fa4080ff082469508de3db10c223a"
   },
   "outputs": [],
   "source": [
    "fig = {\n",
    "    'data' : [\n",
    "        {\n",
    "           'labels' : gender_agewise_suicide.index,\n",
    "           'values' : gender_agewise_suicide.female,\n",
    "            'type': 'pie',\n",
    "            'name': 'Female suicides no',\n",
    "            'domain': {'x': [0, .48],\n",
    "                       'y': [0, .49]}\n",
    "        },\n",
    "        {\n",
    "           'labels' : gender_agewise_suicide.index,\n",
    "           'values' : gender_agewise_suicide.male,\n",
    "            'type': 'pie',\n",
    "            'name': 'Male suicides no',\n",
    "            'domain': {'x': [.52, 1],\n",
    "                       'y': [0, .49]}\n",
    "        }  \n",
    "    ],\n",
    "    'layout': {'title': 'Suicides committed by various age groups in female and male'}\n",
    "}\n",
    "\n",
    "py.offline.iplot(fig)"
   ]
  },
  {
   "cell_type": "markdown",
   "metadata": {
    "_uuid": "d208ceffba843fc96818f65304c8f36d2cf14732"
   },
   "source": [
    "## Suicides committed by various age groups in male and female in each country"
   ]
  },
  {
   "cell_type": "code",
   "execution_count": null,
   "metadata": {
    "_uuid": "349559343ae7589e65991266e671158b299d1c5f"
   },
   "outputs": [],
   "source": [
    "country_gender_agewise_suicide_df = pd.DataFrame({\n",
    "    'country' : suicide.country,\n",
    "    'sex' : suicide.sex,\n",
    "    'age' : suicide.age,\n",
    "    'suicide_no' : suicide.suicides_no\n",
    "})"
   ]
  },
  {
   "cell_type": "code",
   "execution_count": null,
   "metadata": {
    "_uuid": "5be82c94590907b335609ac8f2f32971064a5c1a"
   },
   "outputs": [],
   "source": [
    "country_gender_agewise_suicide_df.head()"
   ]
  },
  {
   "cell_type": "code",
   "execution_count": null,
   "metadata": {
    "_uuid": "aa37583a30d3a2a7f96e0c7ed80195c29b6aa320"
   },
   "outputs": [],
   "source": [
    "country_gender_agewise_suicide = country_gender_agewise_suicide_df.pivot_table(index=['country' , 'age'] , columns='sex' , aggfunc='sum')"
   ]
  },
  {
   "cell_type": "code",
   "execution_count": null,
   "metadata": {
    "_uuid": "0fa9b3954e96ae72838746bee436a08f0f053bfb"
   },
   "outputs": [],
   "source": [
    "country_gender_agewise_suicide.loc['Albania']"
   ]
  },
  {
   "cell_type": "code",
   "execution_count": null,
   "metadata": {
    "_uuid": "1895589666885aebb2277d2513de8f47ee2ffee2"
   },
   "outputs": [],
   "source": [
    "country_gender_agewise_suicide.sample(10).plot.barh(figsize=(20,10))"
   ]
  },
  {
   "cell_type": "markdown",
   "metadata": {
    "_uuid": "178f1c704195648fa380c3bb1e588ece459f3392"
   },
   "source": [
    "## Population and suicide rate in yearly basics"
   ]
  },
  {
   "cell_type": "code",
   "execution_count": null,
   "metadata": {
    "_uuid": "8f5ed1e21b0159a05720ec875700e9c499fc5359"
   },
   "outputs": [],
   "source": [
    "suicide.year.unique()"
   ]
  },
  {
   "cell_type": "code",
   "execution_count": null,
   "metadata": {
    "_uuid": "a0ffecd709fe6084d8dbb16c74523b6976b7e5af"
   },
   "outputs": [],
   "source": [
    "yearly_suicide = suicide.groupby('year').mean()"
   ]
  },
  {
   "cell_type": "code",
   "execution_count": null,
   "metadata": {
    "_uuid": "afd0fba08f2fd50e437cdd22e0cfd9fa667ef1be"
   },
   "outputs": [],
   "source": [
    "yearly_suicide.head()"
   ]
  },
  {
   "cell_type": "code",
   "execution_count": null,
   "metadata": {
    "_uuid": "999410cb1760a0d40181466cd487f75975d64b0e"
   },
   "outputs": [],
   "source": [
    "yearly_population = pd.DataFrame({\n",
    "    'population' : yearly_suicide.population\n",
    "})\n",
    "    \n",
    "yearly_suicide_no = pd.DataFrame({\n",
    "    'suicide_no' : yearly_suicide.suicides_no\n",
    "})"
   ]
  },
  {
   "cell_type": "code",
   "execution_count": null,
   "metadata": {
    "_uuid": "f8da125c741a21d67c5af2ca84cf7fa8b716509b"
   },
   "outputs": [],
   "source": [
    "yearly_population.head()"
   ]
  },
  {
   "cell_type": "code",
   "execution_count": null,
   "metadata": {
    "_uuid": "7360ba5d2e61171439af709390b5ab91dd3d2847"
   },
   "outputs": [],
   "source": [
    "# yearly_population.plot.line(color='red')\n",
    "# yearly_suicide_no.plot.line()"
   ]
  },
  {
   "cell_type": "code",
   "execution_count": null,
   "metadata": {
    "_uuid": "da4c85f1b81b2ebb68b930d464887d45735b23cb"
   },
   "outputs": [],
   "source": [
    "trace0 = go.Scatter(\n",
    "    x = yearly_population.index,\n",
    "    y = yearly_population.population,\n",
    "    mode = 'lines+markers',\n",
    ")\n",
    "layout1 = go.Layout(\n",
    "    title=\"Population rate yearly basics\",\n",
    "    xaxis={\n",
    "        'title':\"Years\",\n",
    "    },\n",
    "    yaxis={\n",
    "        'title':\"Number of population\",\n",
    "    }\n",
    ")\n",
    "\n",
    "data1 = [trace0]\n",
    "figure=go.Figure(data=data1,layout=layout1)\n",
    "py.offline.iplot(figure)\n",
    "\n",
    "trace1 = go.Scatter(\n",
    "    x = yearly_suicide_no.index,\n",
    "    y = yearly_suicide_no.suicide_no,\n",
    "    mode = 'lines+markers',\n",
    ")\n",
    "\n",
    "layout2 = go.Layout(\n",
    "    title=\"Suicide rate yearly basics\",\n",
    "    xaxis={\n",
    "        'title':\"Years\",\n",
    "    },\n",
    "    yaxis={\n",
    "        'title':\"Suicide rate\",\n",
    "    }\n",
    ")\n",
    "\n",
    "data2 = [trace1]\n",
    "figure1=go.Figure(data=data2,layout=layout2)\n",
    "py.offline.iplot(figure1)"
   ]
  },
  {
   "cell_type": "markdown",
   "metadata": {
    "_uuid": "c394e9251feb5a74139d00fe945b3c672f724154"
   },
   "source": [
    "## Merge population and suicide no with yearlywise"
   ]
  },
  {
   "cell_type": "code",
   "execution_count": null,
   "metadata": {
    "_uuid": "fac978c4c477a227676c789285a2e052eecfaeb1"
   },
   "outputs": [],
   "source": [
    "merge_pop_suicide = pd.merge(yearly_population , yearly_suicide_no , on='year')"
   ]
  },
  {
   "cell_type": "code",
   "execution_count": null,
   "metadata": {
    "_uuid": "18bb0407df6fd34097c1c12a710c9847db214ffa"
   },
   "outputs": [],
   "source": [
    "merge_pop_suicide.head()"
   ]
  },
  {
   "cell_type": "code",
   "execution_count": null,
   "metadata": {
    "_uuid": "c49fed187ce5b95fa543a9579f799474533b8106"
   },
   "outputs": [],
   "source": [
    "merge_pop_suicide.plot.bar(stacked=True,figsize=(30,10))"
   ]
  },
  {
   "cell_type": "markdown",
   "metadata": {
    "_uuid": "3afb1bd6ea7c9b2efca02d67781a689360220ddb"
   },
   "source": [
    "## Suicide rate in male and female yearly"
   ]
  },
  {
   "cell_type": "code",
   "execution_count": null,
   "metadata": {
    "_uuid": "54330f080f7511788f61675fd71cbc27aea31129"
   },
   "outputs": [],
   "source": [
    "yearly_countrywise_gender_suicide_df = pd.DataFrame({\n",
    "    \"year\" : suicide.year,\n",
    "    \"sex\" : suicide.sex,\n",
    "    \"suicides_no\" : suicide.suicides_no\n",
    "})"
   ]
  },
  {
   "cell_type": "code",
   "execution_count": null,
   "metadata": {
    "_uuid": "6292480c79c7eff71befc91230d407e04fee5090"
   },
   "outputs": [],
   "source": [
    "yearly_countrywise_gender_suicide = yearly_countrywise_gender_suicide_df.pivot_table(index='year', columns='sex',aggfunc='mean')"
   ]
  },
  {
   "cell_type": "code",
   "execution_count": null,
   "metadata": {
    "_uuid": "860d5f73a4934807bc61f9aee7071f61d9b46df2"
   },
   "outputs": [],
   "source": [
    "yearly_countrywise_gender_suicide.head()"
   ]
  },
  {
   "cell_type": "code",
   "execution_count": null,
   "metadata": {
    "_uuid": "a08d3bbd8d37ccd88d4909fdf39e349c4d588f15"
   },
   "outputs": [],
   "source": [
    "x = yearly_countrywise_gender_suicide.index"
   ]
  },
  {
   "cell_type": "code",
   "execution_count": null,
   "metadata": {
    "_uuid": "ca03d01a509fd8fca83dda4ae65c65c11e393170"
   },
   "outputs": [],
   "source": [
    "yearly_countrywise_gender_suicide.columns"
   ]
  },
  {
   "cell_type": "code",
   "execution_count": null,
   "metadata": {
    "_uuid": "e48627dcf22c860291213897ba531db43f621bf2"
   },
   "outputs": [],
   "source": [
    "yearly_countrywise_gender_suicide.columns = ['female' , 'male']"
   ]
  },
  {
   "cell_type": "code",
   "execution_count": null,
   "metadata": {
    "_uuid": "4f71cf91de5114c707d32c5113bb73e3ee5e5138"
   },
   "outputs": [],
   "source": [
    "yearly_countrywise_gender_suicide.head()"
   ]
  },
  {
   "cell_type": "code",
   "execution_count": null,
   "metadata": {
    "_uuid": "b1acc1904abb1891bb24c1d385ff60d08731e934"
   },
   "outputs": [],
   "source": [
    "female = yearly_countrywise_gender_suicide['female']\n",
    "male = yearly_countrywise_gender_suicide['male']"
   ]
  },
  {
   "cell_type": "code",
   "execution_count": null,
   "metadata": {
    "_uuid": "22ab949c3f01fdd29290478ed32d9ac99c42c154"
   },
   "outputs": [],
   "source": [
    "fig, ax = plt.subplots(figsize=(12,6))\n",
    "\n",
    "ax.plot(x, female, color=\"blue\", alpha=0.5 , label='Female suicide rate')\n",
    "ax.plot(x, male, color=\"green\", alpha=0.5 , label=\"Male suicide rate\")\n",
    "ax.set_xlabel('Years')\n",
    "ax.set_ylabel('Avg. of suicide no')\n",
    "ax.legend()"
   ]
  },
  {
   "cell_type": "markdown",
   "metadata": {
    "_uuid": "215d6087118dfedd88abe8a33dd29a1db275e98c"
   },
   "source": [
    "## Suicide rate over the period of time in each country\n"
   ]
  },
  {
   "cell_type": "code",
   "execution_count": null,
   "metadata": {
    "_uuid": "ea9070ad8a9dd78626ca3bc5cc194f2c804e05fb"
   },
   "outputs": [],
   "source": [
    "country_yearwise_suicide_df  = pd.DataFrame({\n",
    "    'country' : suicide.country,\n",
    "    'year' : suicide.year,\n",
    "    'suicides_no' : suicide.suicides_no\n",
    "}) "
   ]
  },
  {
   "cell_type": "code",
   "execution_count": null,
   "metadata": {
    "_uuid": "2e43a296a83d49f51af842dfb8a8930da410fc26"
   },
   "outputs": [],
   "source": [
    "country_yearwise_suicide = country_yearwise_suicide_df.pivot_table(index='year' , columns='country' , aggfunc='mean')"
   ]
  },
  {
   "cell_type": "code",
   "execution_count": null,
   "metadata": {
    "_uuid": "b650be236efcfdd286f2f03aeb92cda3c4794a2f"
   },
   "outputs": [],
   "source": [
    "country_yearwise_suicide.columns = country_yearwise_suicide.columns.droplevel()"
   ]
  },
  {
   "cell_type": "code",
   "execution_count": null,
   "metadata": {
    "_uuid": "5643f3261628bcfad080a96ea92ec17d0ea848ca"
   },
   "outputs": [],
   "source": [
    "country_yearwise_suicide.head()"
   ]
  },
  {
   "cell_type": "code",
   "execution_count": null,
   "metadata": {
    "_uuid": "ddf00014a3ac6a43abdd003a4858a009d18d9449",
    "scrolled": true
   },
   "outputs": [],
   "source": [
    "country_yearwise_suicide.interpolate(axis=0 , inplace=True)"
   ]
  },
  {
   "cell_type": "code",
   "execution_count": null,
   "metadata": {
    "_uuid": "9b5e8a841df9f7191a49d23d5b4bed4f08e2fa5f"
   },
   "outputs": [],
   "source": [
    "country_yearwise_suicide.fillna(method='bfill' , axis=0 , inplace=True)"
   ]
  },
  {
   "cell_type": "code",
   "execution_count": null,
   "metadata": {
    "_uuid": "1fe14ed22a6dc0baecdebd629de573396c768eb3"
   },
   "outputs": [],
   "source": [
    "country_yearwise_suicide.iloc[:,1].name"
   ]
  },
  {
   "cell_type": "code",
   "execution_count": null,
   "metadata": {
    "_uuid": "2a08992dd89c6b616fbe846341b13ae2fc619291"
   },
   "outputs": [],
   "source": [
    "len(country_yearwise_suicide.columns)"
   ]
  },
  {
   "cell_type": "code",
   "execution_count": null,
   "metadata": {
    "_uuid": "636f74faa12a8e3da77bf150166ee2c0c02501a6",
    "scrolled": true
   },
   "outputs": [],
   "source": [
    "fig, ax = plt.subplots(figsize=(20,6))\n",
    "\n",
    "l = len(country_yearwise_suicide.columns) \n",
    "for i in range(l - 90):\n",
    "    \n",
    "    ax.plot(country_yearwise_suicide.index, country_yearwise_suicide.iloc[:,i], alpha=0.5 , label=country_yearwise_suicide.iloc[:,i].name)\n",
    "\n",
    "ax.legend()\n",
    "ax.set_xlabel('Years')\n",
    "ax.set_ylabel('Avg. of suicide no')"
   ]
  },
  {
   "cell_type": "code",
   "execution_count": null,
   "metadata": {
    "_uuid": "0145fac379d0bf4e743129b46032ca89a6d46cf4"
   },
   "outputs": [],
   "source": [
    "suicide.head()"
   ]
  },
  {
   "cell_type": "code",
   "execution_count": null,
   "metadata": {
    "_uuid": "858f06868784f10b4e71967a2db3d1ee3b9059b7"
   },
   "outputs": [],
   "source": [
    "suicide.generation.unique()"
   ]
  },
  {
   "cell_type": "markdown",
   "metadata": {
    "_uuid": "cc0eb0179df7016fb3cc53c236e929416c3ab1a6"
   },
   "source": [
    "## GDP evalution of each country yearly basis"
   ]
  },
  {
   "cell_type": "code",
   "execution_count": null,
   "metadata": {
    "_uuid": "249ce132e0bfc1a1403f6bc5ed729706711dc1f8"
   },
   "outputs": [],
   "source": [
    "yearly_country_gdp_df = pd.DataFrame({\n",
    "    'country' : suicide.country,\n",
    "    'year' : suicide.year,\n",
    "    'gdp' : suicide.iloc[:,9]\n",
    "})"
   ]
  },
  {
   "cell_type": "code",
   "execution_count": null,
   "metadata": {
    "_uuid": "86314f717abcf2eeb8fd91358aaad127b7f7cdf0"
   },
   "outputs": [],
   "source": [
    "yearly_country_gdp_df = yearly_country_gdp_df.drop_duplicates()"
   ]
  },
  {
   "cell_type": "code",
   "execution_count": null,
   "metadata": {
    "_uuid": "292ca883da3d0a85c90e4c56d211ee634f73e286"
   },
   "outputs": [],
   "source": [
    "yearly_country_gdp_df.head()"
   ]
  },
  {
   "cell_type": "code",
   "execution_count": null,
   "metadata": {
    "_uuid": "81961f0330ea686433282ebcb27e2b819e8289bb"
   },
   "outputs": [],
   "source": [
    "yearly_country_gdp_df = yearly_country_gdp_df.set_index('country')"
   ]
  },
  {
   "cell_type": "markdown",
   "metadata": {
    "_uuid": "b3fc838c52f6949d78eef3575523533c3f819568"
   },
   "source": [
    "## Evaluation  GDP of Albania country throughout the period"
   ]
  },
  {
   "cell_type": "code",
   "execution_count": null,
   "metadata": {
    "_uuid": "44ea2ac08ded38d17ce9ff64701b59d62f71ede5"
   },
   "outputs": [],
   "source": [
    "country_gdp = yearly_country_gdp_df[yearly_country_gdp_df.index == 'Albania']\n",
    "country_gdp.head()"
   ]
  },
  {
   "cell_type": "code",
   "execution_count": null,
   "metadata": {
    "_uuid": "0ca6c5991fe1798d37e657af52e1b6ba7d90c665"
   },
   "outputs": [],
   "source": [
    "trace = go.Scatter(x=country_gdp.year , y=country_gdp.gdp , name=country_gdp.index[0],mode = 'lines+markers')\n",
    "layout = go.Layout(\n",
    "        title=\"Albania country's GDP evaluation\",\n",
    "        xaxis={\n",
    "                'title':\"Years\",\n",
    "              },\n",
    "        yaxis={\n",
    "                'title':\"gdp rate\",\n",
    "              }\n",
    "        )\n",
    "data = [trace]\n",
    "fig = go.Figure(data=data , layout=layout)\n",
    "py.offline.iplot(fig)"
   ]
  },
  {
   "cell_type": "markdown",
   "metadata": {
    "_uuid": "ef6b7f39a87ad2ff8fc9d353c4bcd3949cdfc1a2"
   },
   "source": [
    "## Generation evaluation"
   ]
  },
  {
   "cell_type": "code",
   "execution_count": null,
   "metadata": {
    "_uuid": "d6c99cbfd3141cd1745df61d4c0f28c42be04b7c"
   },
   "outputs": [],
   "source": [
    "\n",
    "gen_sui = suicide.pivot_table('suicides_no', index='generation', aggfunc='sum')\n",
    "x = gen_sui.index.values\n",
    "y = gen_sui.values\n",
    "y = y.reshape(6,)\n",
    "\n",
    "fig, ax = plt.subplots(figsize=(10, 6))\n",
    "explode = (0.1,0.1,0.1,0.5,0.1,0.1)\n",
    "ax.pie(y, explode=explode, labels=x, autopct='%1.1f%%', shadow=True, startangle=0)\n",
    "ax.axis('equal')\n",
    "plt.show()"
   ]
  },
  {
   "cell_type": "markdown",
   "metadata": {
    "_uuid": "f0a72ee34a41ea5914ecae02b5d29ce488792ad8"
   },
   "source": [
    "## Pairplot through age group"
   ]
  },
  {
   "cell_type": "code",
   "execution_count": null,
   "metadata": {
    "_uuid": "c8c5111ad3caebff6ceca70f73fdfe3bacd8f93b"
   },
   "outputs": [],
   "source": [
    "suide_pairplot = suicide.fillna(method='bfill')\n",
    "suide_pairplot.head(2)"
   ]
  },
  {
   "cell_type": "code",
   "execution_count": null,
   "metadata": {
    "_uuid": "604c7b66505baf2767bf66400f34cf34dc2e4a27"
   },
   "outputs": [],
   "source": [
    "sb.pairplot(suide_pairplot , hue='age')"
   ]
  },
  {
   "cell_type": "code",
   "execution_count": null,
   "metadata": {
    "_uuid": "398632c7c484dc9b48e773bded6eb17fb8bd5969"
   },
   "outputs": [],
   "source": [
    "sb.distplot(suicide.iloc[:,6])\n",
    "plt.show()"
   ]
  }
 ],
 "metadata": {
  "kernelspec": {
   "display_name": "Python 3",
   "language": "python",
   "name": "python3"
  },
  "language_info": {
   "codemirror_mode": {
    "name": "ipython",
    "version": 3
   },
   "file_extension": ".py",
   "mimetype": "text/x-python",
   "name": "python",
   "nbconvert_exporter": "python",
   "pygments_lexer": "ipython3",
   "version": "3.7.6"
  }
 },
 "nbformat": 4,
 "nbformat_minor": 1
}
